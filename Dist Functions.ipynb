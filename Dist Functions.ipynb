{
 "cells": [
  {
   "cell_type": "markdown",
   "id": "657e21b2",
   "metadata": {},
   "source": [
    "# Normal Distribution"
   ]
  },
  {
   "cell_type": "code",
   "execution_count": 3,
   "id": "9e9c96fd",
   "metadata": {},
   "outputs": [],
   "source": [
    "import math"
   ]
  },
  {
   "cell_type": "code",
   "execution_count": 4,
   "id": "f4cca337",
   "metadata": {},
   "outputs": [],
   "source": [
    "#Analytical PDF\n",
    "def normdist(x,mu,sigma):\n",
    "    '''\n",
    "    x = (float) - x is the value of random variable \n",
    "    mu = (float) - mu is the mean of normal distribution.\n",
    "    sigma = (float) - sigma is the standard deviation of normal distribution\n",
    "    '''\n",
    "    return (1/math.sqrt(2*math.pi*sigma**2))*math.exp(-0.5*((x-mu)/sigma)**2)"
   ]
  },
  {
   "cell_type": "code",
   "execution_count": 5,
   "id": "ac49c2a6",
   "metadata": {},
   "outputs": [
    {
     "data": {
      "text/plain": [
       "0.00752843580387011"
      ]
     },
     "execution_count": 5,
     "metadata": {},
     "output_type": "execute_result"
    }
   ],
   "source": [
    "# Example\n",
    "# What is the probability (density) that Virat will make a century given his mean Score is 60 and SD of score is 40\n",
    "normdist (100,70,40)"
   ]
  },
  {
   "cell_type": "code",
   "execution_count": 7,
   "id": "17e8dfc8",
   "metadata": {},
   "outputs": [],
   "source": [
    "# Analytical pdf\n",
    "def normsdist(x):\n",
    "    ''' x = (float) - x is the value of random variable '''\n",
    "    return (1/math.sqrt(2*math.pi)) *math.exp(-0.5*(x**2))"
   ]
  },
  {
   "cell_type": "code",
   "execution_count": 12,
   "id": "32eb2f48",
   "metadata": {},
   "outputs": [
    {
     "data": {
      "text/plain": [
       "0.3989422804014327"
      ]
     },
     "execution_count": 12,
     "metadata": {},
     "output_type": "execute_result"
    }
   ],
   "source": [
    "#Example\n",
    "# What is the probability that virat's score will be equal to the mean in a standard normal distribution. \n",
    "normsdist (0)"
   ]
  },
  {
   "cell_type": "code",
   "execution_count": 13,
   "id": "b66207a4",
   "metadata": {},
   "outputs": [
    {
     "data": {
      "text/plain": [
       "0.3989422804014327"
      ]
     },
     "execution_count": 13,
     "metadata": {},
     "output_type": "execute_result"
    }
   ],
   "source": [
    "normdist (0,0,1)"
   ]
  },
  {
   "cell_type": "markdown",
   "id": "0443ebe5",
   "metadata": {},
   "source": [
    "### Normal Distribution using scipy\n"
   ]
  },
  {
   "cell_type": "code",
   "execution_count": 18,
   "id": "f7ad9d68",
   "metadata": {},
   "outputs": [],
   "source": [
    "import scipy.stats as stat\n",
    "import warnings\n",
    "warnings.filterwarnings(\"ignore\", message=\"A NumPy version >=1.16.5 and <1.23.0 is required for this version of SciPy\")"
   ]
  },
  {
   "cell_type": "code",
   "execution_count": 19,
   "id": "aba37126",
   "metadata": {},
   "outputs": [
    {
     "data": {
      "text/plain": [
       "0.007528435803870111"
      ]
     },
     "execution_count": 19,
     "metadata": {},
     "output_type": "execute_result"
    }
   ],
   "source": [
    "# Probability (Density) that Virat will make exactly a century \n",
    "stat.norm.pdf(x=100, loc=70, scale=40)"
   ]
  },
  {
   "cell_type": "code",
   "execution_count": 15,
   "id": "bdd5592d",
   "metadata": {},
   "outputs": [
    {
     "data": {
      "text/plain": [
       "0.22662735237686826"
      ]
     },
     "execution_count": 15,
     "metadata": {},
     "output_type": "execute_result"
    }
   ],
   "source": [
    "# Probability that Virat will make more than a century\n",
    "1-stat.norm.cdf(x=100, loc=70, scale=40)"
   ]
  },
  {
   "cell_type": "code",
   "execution_count": 16,
   "id": "5243c46b",
   "metadata": {},
   "outputs": [
    {
     "data": {
      "text/plain": [
       "158.1499564252729"
      ]
     },
     "execution_count": 16,
     "metadata": {},
     "output_type": "execute_result"
    }
   ],
   "source": [
    "# Max Runs with a 90% probability\n",
    "stat.norm.ppf(0.98, loc=76, scale=40) #percentile point function, inverse cdf"
   ]
  },
  {
   "cell_type": "code",
   "execution_count": 23,
   "id": "6cecd2af",
   "metadata": {},
   "outputs": [
    {
     "data": {
      "text/plain": [
       "(array(70.), array(1600.), array(0.), array(0.))"
      ]
     },
     "execution_count": 23,
     "metadata": {},
     "output_type": "execute_result"
    }
   ],
   "source": [
    "# Getting first 4 moments of a normal distribution \n",
    "stat.norm.stats(loc=70, scale=40, moments='mvsk')"
   ]
  },
  {
   "cell_type": "code",
   "execution_count": 26,
   "id": "db071da9",
   "metadata": {},
   "outputs": [
    {
     "data": {
      "text/plain": [
       "(array(70.), array(1800.), array(0.), array(0.42857143))"
      ]
     },
     "execution_count": 26,
     "metadata": {},
     "output_type": "execute_result"
    }
   ],
   "source": [
    "# What if we have fat tails (Sehwag instead of Virat) \n",
    "stat.t.stats(loc=70, scale=40, df=18, moments='mvsk')"
   ]
  },
  {
   "cell_type": "markdown",
   "id": "a73c9667",
   "metadata": {},
   "source": [
    "# Exponential Distribuion"
   ]
  },
  {
   "cell_type": "code",
   "execution_count": 28,
   "id": "7269311d",
   "metadata": {},
   "outputs": [],
   "source": [
    "def expondist(x, lambd, cumulative = True):\n",
    "    '''\n",
    "    x = (float) - x is the value of random variable \n",
    "    lambd= (float) - lambda is arrivar rate of an event\n",
    "    '''\n",
    "    if cumulative:\n",
    "        return 1-math.exp(-lambd*x)\n",
    "    else:\n",
    "        return lambd*math.exp(-lambd*x)"
   ]
  },
  {
   "cell_type": "code",
   "execution_count": 29,
   "id": "244778b4",
   "metadata": {},
   "outputs": [
    {
     "data": {
      "text/plain": [
       "0.05823546641575128"
      ]
     },
     "execution_count": 29,
     "metadata": {},
     "output_type": "execute_result"
    }
   ],
   "source": [
    "# Given Lambda of 2%, what is the probability that Loan will default within next 3 years \n",
    "expondist (3,0.02, True)"
   ]
  },
  {
   "cell_type": "code",
   "execution_count": 30,
   "id": "f528299a",
   "metadata": {},
   "outputs": [
    {
     "data": {
      "text/plain": [
       "0.018835290671684976"
      ]
     },
     "execution_count": 30,
     "metadata": {},
     "output_type": "execute_result"
    }
   ],
   "source": [
    "# Given Lambda of 2%, what is the probability (density) that Loan will default in 3rd year \n",
    "expondist (3,0.02, False)"
   ]
  },
  {
   "cell_type": "markdown",
   "id": "de719ee8",
   "metadata": {},
   "source": [
    "### Exponential distribution using scipy"
   ]
  },
  {
   "cell_type": "code",
   "execution_count": 31,
   "id": "e195f259",
   "metadata": {},
   "outputs": [
    {
     "data": {
      "text/plain": [
       "0.07005665979320341"
      ]
     },
     "execution_count": 31,
     "metadata": {},
     "output_type": "execute_result"
    }
   ],
   "source": [
    "# Same calculation using Scipy \n",
    "stat.expon.pdf (3, scale = 1/0.82)"
   ]
  },
  {
   "cell_type": "code",
   "execution_count": 32,
   "id": "5ead2840",
   "metadata": {},
   "outputs": [
    {
     "data": {
      "text/plain": [
       "52.30258509299404"
      ]
     },
     "execution_count": 32,
     "metadata": {},
     "output_type": "execute_result"
    }
   ],
   "source": [
    "# Average Time it will take for 90% Loans to default \n",
    "stat.expon.ppf(0.9,1/0.02)"
   ]
  },
  {
   "cell_type": "markdown",
   "id": "17705ba1",
   "metadata": {},
   "source": [
    "# Binomial Distribution"
   ]
  },
  {
   "cell_type": "code",
   "execution_count": 33,
   "id": "259788cf",
   "metadata": {},
   "outputs": [],
   "source": [
    "def binomdist(x,n,p):\n",
    "    '''\n",
    "    x = (int) - x is the value of random variable\n",
    "    n = (int) -  n is the number of trials \n",
    "    p = (float) - p is the probability of success\n",
    "    '''\n",
    "    return math.comb(n,x)*(p**x)*((1-p)** (n-x))"
   ]
  },
  {
   "cell_type": "code",
   "execution_count": 34,
   "id": "bc846cb8",
   "metadata": {},
   "outputs": [
    {
     "data": {
      "text/plain": [
       "0.40155246378287995"
      ]
     },
     "execution_count": 34,
     "metadata": {},
     "output_type": "execute_result"
    }
   ],
   "source": [
    "# If you are playing Ludo, what is the probability you will get one 6 in first 5 chances \n",
    "# given that probability of success is 16.66%\n",
    "binomdist (1,5,0.166)"
   ]
  },
  {
   "cell_type": "markdown",
   "id": "9f54ac4d",
   "metadata": {},
   "source": [
    "### Binomial Distribution using scipy\n"
   ]
  },
  {
   "cell_type": "code",
   "execution_count": 35,
   "id": "519a05a1",
   "metadata": {},
   "outputs": [
    {
     "data": {
      "text/plain": [
       "0.40155246378288"
      ]
     },
     "execution_count": 35,
     "metadata": {},
     "output_type": "execute_result"
    }
   ],
   "source": [
    "# Same calculation using scipy \n",
    "stat.binom.pmf(k=1,n=5, p=0.166)"
   ]
  }
 ],
 "metadata": {
  "kernelspec": {
   "display_name": "Python 3 (ipykernel)",
   "language": "python",
   "name": "python3"
  },
  "language_info": {
   "codemirror_mode": {
    "name": "ipython",
    "version": 3
   },
   "file_extension": ".py",
   "mimetype": "text/x-python",
   "name": "python",
   "nbconvert_exporter": "python",
   "pygments_lexer": "ipython3",
   "version": "3.9.12"
  }
 },
 "nbformat": 4,
 "nbformat_minor": 5
}
